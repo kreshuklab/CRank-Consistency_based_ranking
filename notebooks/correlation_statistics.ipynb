{
 "cells": [
  {
   "cell_type": "code",
   "execution_count": 8,
   "id": "5d70e21c",
   "metadata": {},
   "outputs": [],
   "source": [
    "import numpy as np\n",
    "import pandas as pd\n",
    "from scipy.stats import pearsonr # pyright: ignore[reportMissingTypeStubs, reportUnknownVariableType]\n",
    "from typing import Dict, List, Tuple\n",
    "from model_ranking.results import results_to_arrays, get_summary_results\n",
    "from model_ranking.correlation import scores_to_rank, permutation_test_kendall_tau, permutation_test_spearman_rho"
   ]
  },
  {
   "cell_type": "code",
   "execution_count": null,
   "id": "a6259c9c",
   "metadata": {},
   "outputs": [],
   "source": [
    "selected_augmentations: Dict[str, List[str]] = {\n",
    "    \"none\": [],\n",
    "    \"DO\": [ \"a005\", \"a01\", \"a02\", \"a03\", \"a04\", \"a05\"],\n",
    "}\n",
    "source_models = {\n",
    "    \"BBBC039\": \"BC_model\",\n",
    "    \"Go-Nuclear\": \"GN_model\",\n",
    "    \"HeLaNuc\": \"HN_model\",\n",
    "    \"Hoechst\": \"Hst_model\",\n",
    "    \"S_BIAD895\": \"895_model\",\n",
    "    \"S_BIAD1410\": \"1410_model\",\n",
    "}\n",
    "per_target_norms: Dict[str, List[Tuple[float, float]]] = {\n",
    "    \"BBBC039\": [(5, 98)],\n",
    "    \"DSB2018\": [(5, 98)],\n",
    "    \"Hoechst\": [(5, 98)],\n",
    "    \"S_BIAD634\": [(5, 98)],\n",
    "    \"S_BIAD895\": [(5, 98)],\n",
    "}\n",
    "\n",
    "result_folders = {\n",
    "    \"BBBC039\": \"exp1\",\n",
    "    \"DSB2018\": \"exp1\",\n",
    "    \"Hoechst\": \"exp1\",\n",
    "    \"S_BIAD634\": \"exp1\",\n",
    "    \"S_BIAD895\": \"exp1\",\n",
    "}\n",
    "consis_keys = {\n",
    "    \"BBBC039\": \"HD_consis\",\n",
    "    \"DSB2018\": \"HD_consis\",\n",
    "    \"Hoechst\": \"HD_consis\",\n",
    "    \"S_BIAD634\": \"HD_consis\",\n",
    "    \"S_BIAD895\": \"HD_consis\",\n",
    "}\n",
    "target_datasets = [\n",
    "    \"BBBC039\",\n",
    "    \"DSB2018\",\n",
    "    \"Hoechst\",\n",
    "    \"S_BIAD634\",\n",
    "    \"S_BIAD895\",\n",
    "]\n",
    "source_datasets = [\n",
    "    \"BBBC039\",\n",
    "    \"Go-Nuclear\",\n",
    "    \"HeLaNuc\",\n",
    "    \"Hoechst\",\n",
    "    \"S_BIAD895\",\n",
    "    \"S_BIAD1410\",\n",
    "]\n",
    "\n",
    "base_seg_dir = \"/path/to/results/directory\"\n",
    "invert_consis = True\n",
    "invert_perf = False\n",
    "rank_ascending=False\n",
    "perf_tolerance=0\n",
    "consis_tolerance=0\n",
    "perf_key = \"f1_eval\""
   ]
  },
  {
   "cell_type": "code",
   "execution_count": null,
   "id": "555d9c5b",
   "metadata": {},
   "outputs": [
    {
     "name": "stdout",
     "output_type": "stream",
     "text": [
      "Source: BBBC039\n"
     ]
    },
    {
     "name": "stderr",
     "output_type": "stream",
     "text": [
      "100%|██████████| 1/1 [00:00<00:00, 12.70it/s]\n"
     ]
    },
    {
     "name": "stdout",
     "output_type": "stream",
     "text": [
      "Source: Go-Nuclear\n"
     ]
    },
    {
     "name": "stderr",
     "output_type": "stream",
     "text": [
      "100%|██████████| 1/1 [00:00<00:00, 11.36it/s]\n"
     ]
    },
    {
     "name": "stdout",
     "output_type": "stream",
     "text": [
      "Source: HeLaNuc\n"
     ]
    },
    {
     "name": "stderr",
     "output_type": "stream",
     "text": [
      "100%|██████████| 1/1 [00:00<00:00, 15.90it/s]\n"
     ]
    },
    {
     "name": "stdout",
     "output_type": "stream",
     "text": [
      "Source: Hoechst\n"
     ]
    },
    {
     "name": "stderr",
     "output_type": "stream",
     "text": [
      "100%|██████████| 1/1 [00:00<00:00, 19.55it/s]\n"
     ]
    },
    {
     "name": "stdout",
     "output_type": "stream",
     "text": [
      "Source: S_BIAD895\n"
     ]
    },
    {
     "name": "stderr",
     "output_type": "stream",
     "text": [
      "100%|██████████| 1/1 [00:00<00:00,  9.38it/s]\n"
     ]
    },
    {
     "name": "stdout",
     "output_type": "stream",
     "text": [
      "Source: S_BIAD1410\n"
     ]
    },
    {
     "name": "stderr",
     "output_type": "stream",
     "text": [
      "100%|██████████| 1/1 [00:00<00:00, 29.89it/s]\n"
     ]
    },
    {
     "name": "stdout",
     "output_type": "stream",
     "text": [
      "Source: BBBC039\n"
     ]
    },
    {
     "name": "stderr",
     "output_type": "stream",
     "text": [
      "100%|██████████| 1/1 [00:00<00:00,  9.89it/s]\n"
     ]
    },
    {
     "name": "stdout",
     "output_type": "stream",
     "text": [
      "Source: Go-Nuclear\n"
     ]
    },
    {
     "name": "stderr",
     "output_type": "stream",
     "text": [
      "100%|██████████| 1/1 [00:00<00:00,  3.94it/s]\n"
     ]
    },
    {
     "name": "stdout",
     "output_type": "stream",
     "text": [
      "Source: HeLaNuc\n"
     ]
    },
    {
     "name": "stderr",
     "output_type": "stream",
     "text": [
      "100%|██████████| 1/1 [00:00<00:00, 13.25it/s]\n"
     ]
    },
    {
     "name": "stdout",
     "output_type": "stream",
     "text": [
      "Source: Hoechst\n"
     ]
    },
    {
     "name": "stderr",
     "output_type": "stream",
     "text": [
      "100%|██████████| 1/1 [00:00<00:00,  5.53it/s]\n"
     ]
    },
    {
     "name": "stdout",
     "output_type": "stream",
     "text": [
      "Source: S_BIAD895\n"
     ]
    },
    {
     "name": "stderr",
     "output_type": "stream",
     "text": [
      "100%|██████████| 1/1 [00:00<00:00,  9.30it/s]\n"
     ]
    },
    {
     "name": "stdout",
     "output_type": "stream",
     "text": [
      "Source: S_BIAD1410\n"
     ]
    },
    {
     "name": "stderr",
     "output_type": "stream",
     "text": [
      "100%|██████████| 1/1 [00:00<00:00,  5.47it/s]\n"
     ]
    },
    {
     "name": "stdout",
     "output_type": "stream",
     "text": [
      "Source: BBBC039\n"
     ]
    },
    {
     "name": "stderr",
     "output_type": "stream",
     "text": [
      "100%|██████████| 1/1 [00:00<00:00, 16.94it/s]\n"
     ]
    },
    {
     "name": "stdout",
     "output_type": "stream",
     "text": [
      "Source: Go-Nuclear\n"
     ]
    },
    {
     "name": "stderr",
     "output_type": "stream",
     "text": [
      "100%|██████████| 1/1 [00:00<00:00, 22.58it/s]\n"
     ]
    },
    {
     "name": "stdout",
     "output_type": "stream",
     "text": [
      "Source: HeLaNuc\n"
     ]
    },
    {
     "name": "stderr",
     "output_type": "stream",
     "text": [
      "100%|██████████| 1/1 [00:00<00:00, 17.28it/s]\n"
     ]
    },
    {
     "name": "stdout",
     "output_type": "stream",
     "text": [
      "Source: Hoechst\n"
     ]
    },
    {
     "name": "stderr",
     "output_type": "stream",
     "text": [
      "100%|██████████| 1/1 [00:00<00:00,  6.37it/s]\n"
     ]
    },
    {
     "name": "stdout",
     "output_type": "stream",
     "text": [
      "Source: S_BIAD895\n"
     ]
    },
    {
     "name": "stderr",
     "output_type": "stream",
     "text": [
      "100%|██████████| 1/1 [00:00<00:00, 23.14it/s]\n"
     ]
    },
    {
     "name": "stdout",
     "output_type": "stream",
     "text": [
      "Source: S_BIAD1410\n"
     ]
    },
    {
     "name": "stderr",
     "output_type": "stream",
     "text": [
      "100%|██████████| 1/1 [00:00<00:00,  7.08it/s]\n"
     ]
    },
    {
     "name": "stdout",
     "output_type": "stream",
     "text": [
      "Source: BBBC039\n"
     ]
    },
    {
     "name": "stderr",
     "output_type": "stream",
     "text": [
      "100%|██████████| 1/1 [00:00<00:00, 10.76it/s]\n"
     ]
    },
    {
     "name": "stdout",
     "output_type": "stream",
     "text": [
      "Source: Go-Nuclear\n"
     ]
    },
    {
     "name": "stderr",
     "output_type": "stream",
     "text": [
      "100%|██████████| 1/1 [00:00<00:00, 41.73it/s]\n"
     ]
    },
    {
     "name": "stdout",
     "output_type": "stream",
     "text": [
      "Source: HeLaNuc\n"
     ]
    },
    {
     "name": "stderr",
     "output_type": "stream",
     "text": [
      "100%|██████████| 1/1 [00:00<00:00, 11.55it/s]\n"
     ]
    },
    {
     "name": "stdout",
     "output_type": "stream",
     "text": [
      "Source: Hoechst\n"
     ]
    },
    {
     "name": "stderr",
     "output_type": "stream",
     "text": [
      "100%|██████████| 1/1 [00:00<00:00,  5.44it/s]\n"
     ]
    },
    {
     "name": "stdout",
     "output_type": "stream",
     "text": [
      "Source: S_BIAD895\n"
     ]
    },
    {
     "name": "stderr",
     "output_type": "stream",
     "text": [
      "100%|██████████| 1/1 [00:00<00:00,  8.41it/s]\n"
     ]
    },
    {
     "name": "stdout",
     "output_type": "stream",
     "text": [
      "Source: S_BIAD1410\n"
     ]
    },
    {
     "name": "stderr",
     "output_type": "stream",
     "text": [
      "100%|██████████| 1/1 [00:00<00:00, 36.97it/s]\n"
     ]
    },
    {
     "name": "stdout",
     "output_type": "stream",
     "text": [
      "Source: BBBC039\n"
     ]
    },
    {
     "name": "stderr",
     "output_type": "stream",
     "text": [
      "100%|██████████| 1/1 [00:00<00:00, 12.24it/s]\n"
     ]
    },
    {
     "name": "stdout",
     "output_type": "stream",
     "text": [
      "Source: Go-Nuclear\n"
     ]
    },
    {
     "name": "stderr",
     "output_type": "stream",
     "text": [
      "100%|██████████| 1/1 [00:00<00:00, 19.93it/s]\n"
     ]
    },
    {
     "name": "stdout",
     "output_type": "stream",
     "text": [
      "Source: HeLaNuc\n"
     ]
    },
    {
     "name": "stderr",
     "output_type": "stream",
     "text": [
      "100%|██████████| 1/1 [00:00<00:00,  8.86it/s]\n"
     ]
    },
    {
     "name": "stdout",
     "output_type": "stream",
     "text": [
      "Source: Hoechst\n"
     ]
    },
    {
     "name": "stderr",
     "output_type": "stream",
     "text": [
      "100%|██████████| 1/1 [00:00<00:00, 25.61it/s]\n"
     ]
    },
    {
     "name": "stdout",
     "output_type": "stream",
     "text": [
      "Source: S_BIAD1410\n"
     ]
    },
    {
     "name": "stderr",
     "output_type": "stream",
     "text": [
      "100%|██████████| 1/1 [00:00<00:00,  6.30it/s]\n"
     ]
    }
   ],
   "source": [
    "kendall_per_transfer = np.zeros((len(target_datasets), len(selected_augmentations[\"DO\"])))\n",
    "k_pval_per_transfer = np.zeros((len(target_datasets), len(selected_augmentations[\"DO\"])))\n",
    "spearman_per_transfer = np.zeros((len(target_datasets), len(selected_augmentations[\"DO\"])))\n",
    "sp_pval_per_transfer = np.zeros((len(target_datasets), len(selected_augmentations[\"DO\"])))\n",
    "pearson_per_transfer = np.zeros((len(target_datasets), len(selected_augmentations[\"DO\"])))\n",
    "p_pval_per_transfer = np.zeros((len(target_datasets), len(selected_augmentations[\"DO\"])))\n",
    "for i, target in enumerate(target_datasets):\n",
    "    if (target == \"S_BIAD895\") and (target in source_datasets):\n",
    "        sources = source_datasets.copy()\n",
    "        sources.remove(target)\n",
    "    else:\n",
    "        sources = source_datasets\n",
    "    consis_str, perf_str, NA_perf = get_summary_results(\n",
    "        source_data=sources, \n",
    "        target_data=[target], \n",
    "        source_models=source_models, \n",
    "        selected_augmentations=selected_augmentations,\n",
    "        selected_norms=per_target_norms,\n",
    "        consis_keys=consis_keys,\n",
    "        perf_key=\"f1_eval\",\n",
    "        per_target_norms=True,\n",
    "        result_folders=result_folders,\n",
    "        approach=\"feature_perturbation_consistency\",\n",
    "        consis_postfix= \"median\",\n",
    "        perf_postfix=\"median\",\n",
    "        base_seg_dir=base_seg_dir,\n",
    "    )\n",
    "    consis_scores, NA_perf_scores = results_to_arrays(\n",
    "        consis_str, NA_perf, \"DO\", len(selected_augmentations[\"DO\"])\n",
    "    )\n",
    "    if invert_consis:\n",
    "        consis_scores = 1 - consis_scores\n",
    "    if invert_perf:\n",
    "        NA_perf_scores = 1 - NA_perf_scores\n",
    "\n",
    "    target_df = pd.DataFrame()\n",
    "    target_df['aug_strength'] = selected_augmentations[\"DO\"]\n",
    "    ken_scores = np.zeros(consis_scores.shape[1])\n",
    "    ken_pvalue = np.zeros(consis_scores.shape[1])\n",
    "    spear_scores = np.zeros(consis_scores.shape[1])\n",
    "    spear_pval = np.zeros(consis_scores.shape[1])\n",
    "    pearsons_scores = np.zeros(consis_scores.shape[1])\n",
    "    pearsons_pval = np.zeros(consis_scores.shape[1])\n",
    "    for j in range(consis_scores.shape[1]):\n",
    "        #print(f\"Consis Tolerance {consis_tolerance}\")\n",
    "        #print(f\"Aug strength {selected_augmentations['DO'][j]}, Target {target}\")\n",
    "        #print(f\"performance scores { NA_perf_scores}\")\n",
    "        ranked_scores = scores_to_rank(NA_perf_scores, ascending=rank_ascending, tolerance=perf_tolerance)\n",
    "        #print(f\"ranked scores {ranked_scores}\")\n",
    "        #print(f\"consistency scores {consis_scores[:, j]}\")\n",
    "        ranked_consis = scores_to_rank(consis_scores[:, j],ascending=rank_ascending, tolerance=consis_tolerance)\n",
    "        #print(f\"ranked consistency {ranked_consis}\")\n",
    "        #pearson, spearman, kendall = prediction_correlation(ranked_scores, consis_scores[:, i])\n",
    "        pearson, pearson_pval = pearsonr(NA_perf_scores, consis_scores[:,j])\n",
    "        spearman, spearmans_pval = permutation_test_spearman_rho(ranked_scores, ranked_consis)\n",
    "        ken, pval = permutation_test_kendall_tau(ranked_scores, ranked_consis)\n",
    "        #pearson, spearman, kendall = prediction_correlation(ranked_scores, ranked_consis)\n",
    "        #print(f\"{selected_augmentations['DO'][j]}: p={pearson:.3f}, s={spearman:.3f}, k{ken:.3f}\")\n",
    "        \n",
    "        #print(f\"{selected_augmentations['DO'][j]}: ken{ken:.3f}, pvalue={pval:.3f}\")\n",
    "        #print(\"\\n\")\n",
    "        ken_scores[j] = ken\n",
    "        ken_pvalue[j] = pval\n",
    "        spear_scores[j] = spearman\n",
    "        spear_pval[j] = spearmans_pval\n",
    "        pearsons_scores[j] = pearson\n",
    "        pearsons_pval[j] = pearson_pval\n",
    "    target_df[\"kendall tau\"] = ken_scores\n",
    "    target_df[\"kendall p-value\"] = ken_pvalue\n",
    "    target_df[\"spearman rho\"] = spear_scores\n",
    "    target_df[\"spearman p-value\"] = spear_pval\n",
    "    target_df[\"pearson r\"] = pearsons_scores\n",
    "    target_df[\"pearson p-value\"] = pearsons_pval\n",
    "    kendall_per_transfer[i] = ken_scores\n",
    "    k_pval_per_transfer[i] = ken_pvalue\n",
    "    spearman_per_transfer[i] = spear_scores\n",
    "    sp_pval_per_transfer[i] = spear_pval\n",
    "    pearson_per_transfer[i] = pearsons_scores\n",
    "    p_pval_per_transfer[i] = pearsons_pval"
   ]
  },
  {
   "cell_type": "code",
   "execution_count": 15,
   "id": "56b8a961",
   "metadata": {},
   "outputs": [
    {
     "name": "stdout",
     "output_type": "stream",
     "text": [
      "                        kt   kt pval     s rho  s rho pval        pr   pr pval\n",
      "Task   targets                                                                \n",
      "Nuclei BBBC039    0.866667  0.023976  0.942857    0.013986  0.935037  0.006193\n",
      "       DSB2018    0.733333  0.059940  0.828571    0.055944  0.901286  0.014136\n",
      "       Hoechst    0.866667  0.025974  0.942857    0.017982  0.997827  0.000007\n",
      "       S_BIAD634  1.000000  0.001998  1.000000    0.003996  0.852120  0.031186\n",
      "       S_BIAD895  0.600000  0.267732  0.700000    0.229770  0.684240  0.202603\n"
     ]
    }
   ],
   "source": [
    "aug_strength = \"a02\"\n",
    "idx = selected_augmentations[\"DO\"].index(aug_strength)\n",
    "df = pd.DataFrame(\n",
    "    {\"kt\": kendall_per_transfer[:,idx], \"kt pval\": k_pval_per_transfer[:,idx], \"s rho\": spearman_per_transfer[:,idx], \"s rho pval\": sp_pval_per_transfer[:,idx], \"pr\": pearson_per_transfer[:,idx], \"pr pval\": p_pval_per_transfer[:,idx]},\n",
    ")\n",
    "df[\"targets\"] = target_datasets\n",
    "# make targets index\n",
    "df = df.set_index(\"targets\")\n",
    "#add multi index to dataframe with a single index named Nuclei that covers all rows\n",
    "df.index = pd.MultiIndex.from_product([[\"Nuclei\"], df.index], names=[\"Task\", \"targets\"])\n",
    "print(df)"
   ]
  }
 ],
 "metadata": {
  "kernelspec": {
   "display_name": "CRank2",
   "language": "python",
   "name": "python3"
  },
  "language_info": {
   "codemirror_mode": {
    "name": "ipython",
    "version": 3
   },
   "file_extension": ".py",
   "mimetype": "text/x-python",
   "name": "python",
   "nbconvert_exporter": "python",
   "pygments_lexer": "ipython3",
   "version": "3.12.10"
  }
 },
 "nbformat": 4,
 "nbformat_minor": 5
}
