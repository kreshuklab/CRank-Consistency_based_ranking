{
 "cells": [
  {
   "cell_type": "code",
   "execution_count": null,
   "id": "77b927d2",
   "metadata": {},
   "outputs": [],
   "source": [
    "from numpy.typing import NDArray\n",
    "from typing import Any\n",
    "from typing import List, Dict, Tuple\n",
    "from model_ranking.plots import plot_multitarget_correlations\n",
    "from model_ranking.results import get_summary_results, results_to_arrays"
   ]
  },
  {
   "cell_type": "markdown",
   "id": "b225e113",
   "metadata": {},
   "source": [
    "# Specify data to plot"
   ]
  },
  {
   "cell_type": "code",
   "execution_count": null,
   "id": "1eb3c088",
   "metadata": {},
   "outputs": [],
   "source": [
    "source_datasets = [\"BBBC039\", \"S_BIAD895\"]\n",
    "targets = [\"BBBC039\", \"Hoechst\"]\n",
    "### Only a single perturbation strength should be specified here at any one time\n",
    "selected_augmentations = {\n",
    "    \"none\": [\"\"],\n",
    "    \"DO\": [\"a02\"],\n",
    "}\n",
    "source_models = {\n",
    "    \"BBBC039\": \"BC_IN_model\",\n",
    "    \"S_BIAD895\": \"895_IN_model\",\n",
    "}\n",
    "per_target_norms: Dict[str, List[Tuple[float, float]]] = {\n",
    "    \"BBBC039\": [(5.0, 98.0)],\n",
    "    \"Hoechst\": [(5.0, 98.0)],\n",
    "}\n",
    "\n",
    "result_folders = {\n",
    "    \"BBBC039\": \"exp1\",\n",
    "    \"Hoechst\": \"exp1\",\n",
    "}\n",
    "consis_keys = {\n",
    "    \"BBBC039\": \"ARE_consis\",\n",
    "    \"Hoechst\": \"ARE_consis\",\n",
    "}\n",
    "perf_key = \"MAP_eval\"\n",
    "approach=\"feature_perturbation_consistency\"\n",
    "consis_postfix=\"median\"\n",
    "perf_postfix=\"median\"\n",
    "base_result_path=\"/path/to/your/results/directory\"\n"
   ]
  },
  {
   "cell_type": "markdown",
   "id": "aaf08642",
   "metadata": {},
   "source": [
    "# Load Data"
   ]
  },
  {
   "cell_type": "code",
   "execution_count": null,
   "id": "138e7a86",
   "metadata": {},
   "outputs": [],
   "source": [
    "cmb_consis: Dict[str, NDArray[Any]] = {}\n",
    "cmb_perf: Dict[str, NDArray[Any]] = {}\n",
    "for target in targets:\n",
    "    consis_str, _, NA_perf = get_summary_results(\n",
    "        source_data=source_datasets,\n",
    "        target_data=[target],\n",
    "        source_models=source_models,\n",
    "        selected_augmentations=selected_augmentations,\n",
    "        selected_norms=per_target_norms,\n",
    "        consis_keys=consis_keys,\n",
    "        perf_key=perf_key,\n",
    "        per_target_norms=True,\n",
    "        result_folders=result_folders,\n",
    "        approach=approach,\n",
    "        consis_postfix=consis_postfix,\n",
    "        perf_postfix=perf_postfix,\n",
    "        base_seg_dir=base_result_path,\n",
    "    )\n",
    "    consis_scores, NA_perf_scores = results_to_arrays(\n",
    "        consis_str,\n",
    "        NA_perf,\n",
    "        \"DO\",\n",
    "        len(selected_augmentations[\"DO\"]),\n",
    "    )\n",
    "    cmb_consis[target] = consis_scores.squeeze()\n",
    "    cmb_perf[target] = NA_perf_scores.squeeze()\n"
   ]
  },
  {
   "cell_type": "markdown",
   "id": "1d70544f",
   "metadata": {},
   "source": [
    "# Plot multi-target correlation"
   ]
  },
  {
   "cell_type": "code",
   "execution_count": null,
   "id": "718c20f6",
   "metadata": {},
   "outputs": [],
   "source": [
    "plot_multitarget_correlations(\n",
    "    cmb_consis,\n",
    "    cmb_perf\n",
    ")"
   ]
  },
  {
   "cell_type": "code",
   "execution_count": null,
   "id": "0fd7fde7",
   "metadata": {},
   "outputs": [],
   "source": []
  }
 ],
 "metadata": {
  "kernelspec": {
   "display_name": "CRank2",
   "language": "python",
   "name": "python3"
  },
  "language_info": {
   "codemirror_mode": {
    "name": "ipython",
    "version": 3
   },
   "file_extension": ".py",
   "mimetype": "text/x-python",
   "name": "python",
   "nbconvert_exporter": "python",
   "pygments_lexer": "ipython3",
   "version": "3.12.10"
  }
 },
 "nbformat": 4,
 "nbformat_minor": 5
}
