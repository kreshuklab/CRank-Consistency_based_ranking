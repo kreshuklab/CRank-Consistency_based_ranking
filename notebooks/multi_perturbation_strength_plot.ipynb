{
 "cells": [
  {
   "cell_type": "code",
   "execution_count": null,
   "id": "d1cc6c98",
   "metadata": {},
   "outputs": [],
   "source": [
    "from typing import List, Dict, Tuple, Union\n",
    "import matplotlib.pyplot as plt\n",
    "from model_ranking.plots import plot_perturbation_sweep\n",
    "from model_ranking.results import get_summary_results, results_to_arrays"
   ]
  },
  {
   "cell_type": "markdown",
   "id": "dc4456c8",
   "metadata": {},
   "source": [
    "# Specify data to plot"
   ]
  },
  {
   "cell_type": "code",
   "execution_count": null,
   "id": "57f1997f",
   "metadata": {},
   "outputs": [],
   "source": [
    "source_datasets = [\"EPFL\", \"Hmito\", \"Rmito\"]\n",
    "### Only a single target dataset should be specified\n",
    "target = \"Hmito\"\n",
    "### Range of perturbation strengths to evaluate\n",
    "selected_augmentations = {\n",
    "    \"none\": [\"\"],\n",
    "    \"DO\": [\"a005\", \"a01\", \"a02\", \"a03\", \"a04\", \"a05\"],\n",
    "}\n",
    "strength_labels = [\"p = 0.05\", \"p = 0.1\", \"p = 0.2\", \"p = 0.3\", \"p = 0.4\", \"p = 0.5\"]\n",
    "source_models = {\n",
    "    \"EPFL\": \"E_model\",\n",
    "    \"Hmito\": \"Hm_model\",\n",
    "    \"Rmito\": \"Rm_model\",\n",
    "}\n",
    "per_target_norms: Dict[str, Union[List[None], List[Tuple[float,float]]]] ={\n",
    "    \"Hmito\": [(5.0, 98.0)],\n",
    "}\n",
    "\n",
    "result_folders = {\n",
    "    \"Hmito\": \"exp1\",\n",
    "}\n",
    "consis_keys = {\n",
    "    \"Hmito\": \"HD_consis\",\n",
    "}\n",
    "perf_key = \"F1_eval\"\n",
    "approach=\"feature_perturbation_consistency\"\n",
    "consis_postfix=\"median\"\n",
    "perf_postfix=\"median\"\n",
    "base_result_path=\"/path/to/your/results/directory\""
   ]
  },
  {
   "cell_type": "markdown",
   "id": "c6ec3337",
   "metadata": {},
   "source": [
    "# Load Data"
   ]
  },
  {
   "cell_type": "code",
   "execution_count": null,
   "id": "e015d39a",
   "metadata": {},
   "outputs": [],
   "source": [
    "consis_str, _, NA_perf = get_summary_results(\n",
    "    source_data=source_datasets,\n",
    "    target_data=[target],\n",
    "    source_models=source_models,\n",
    "    selected_augmentations=selected_augmentations,\n",
    "    selected_norms=per_target_norms,\n",
    "    consis_keys=consis_keys,\n",
    "    perf_key=perf_key,\n",
    "    per_target_norms=True,\n",
    "    result_folders=result_folders,\n",
    "    approach=approach,\n",
    "    consis_postfix=consis_postfix,\n",
    "    perf_postfix=perf_postfix,\n",
    "    base_seg_dir=base_result_path,\n",
    ")\n",
    "consis_scores, NA_perf_scores = results_to_arrays(\n",
    "    consis_str,\n",
    "    NA_perf,\n",
    "    \"DO\",\n",
    "    len(selected_augmentations[\"DO\"]),\n",
    ")"
   ]
  },
  {
   "cell_type": "markdown",
   "id": "76ffa51a",
   "metadata": {},
   "source": [
    "# Plot perturbation sweep"
   ]
  },
  {
   "cell_type": "code",
   "execution_count": null,
   "id": "4f50522e",
   "metadata": {},
   "outputs": [],
   "source": [
    "transfer_labels = [\"EPFL to Hmito\", \"Hmito to Hmito\", \"Rmito to Hmito\"]\n",
    "### If you want to plot results with smae style as in the paper please download the \n",
    "### ieee.mplstyle file and set the path below\n",
    "mplstyle_path = \"/path/to/ieee.mplstyle\"\n",
    "plt.style.use(mplstyle_path)\n",
    "plot_perturbation_sweep(\n",
    "    consis_scores,\n",
    "    NA_perf_scores,\n",
    "    x_label=\"CTE\",\n",
    "    y_label=\"F1 score\",\n",
    "    title=\"Mitochondria Perturbation Sweep\",\n",
    "    transfer_labels=transfer_labels,\n",
    "    perturbation_labels=strength_labels,\n",
    "    style=mplstyle_path,\n",
    ")"
   ]
  }
 ],
 "metadata": {
  "kernelspec": {
   "display_name": "CRank2",
   "language": "python",
   "name": "python3"
  },
  "language_info": {
   "name": "python",
   "version": "3.12.10"
  }
 },
 "nbformat": 4,
 "nbformat_minor": 5
}
